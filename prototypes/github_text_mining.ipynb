{
 "cells": [
  {
   "cell_type": "markdown",
   "metadata": {},
   "source": [
    "## Extracting Data From GitHub\n",
    "### Created by Pablo Fernández Bravo"
   ]
  },
  {
   "cell_type": "markdown",
   "metadata": {},
   "source": [
    "<div style=\"text-align: justify\">En este notebook se va a tratar de experimentar con la extracción del contenido y los comentarios de un repositorio de GitHub mediante PyGithub. LA información se guardará en ficheros .json para poder utilizarlos posteriormente.</div>"
   ]
  },
  {
   "cell_type": "markdown",
   "metadata": {},
   "source": [
    "<div style=\"text-align: justify\">La posterior celda contiene la orden necesaria para instalar PyGithub directamente en Jupyter.\n",
    "En caso de querer desintalar la dependencia utilizar la instrucción comentada.</div>"
   ]
  },
  {
   "cell_type": "code",
   "execution_count": 1,
   "metadata": {},
   "outputs": [
    {
     "name": "stdout",
     "output_type": "stream",
     "text": [
      "Requirement already satisfied: PyGithub in c:\\users\\pablo\\anaconda3\\lib\\site-packages (1.54.1)\n",
      "Requirement already satisfied: requests>=2.14.0 in c:\\users\\pablo\\anaconda3\\lib\\site-packages (from PyGithub) (2.24.0)\n",
      "Requirement already satisfied: pyjwt<2.0 in c:\\users\\pablo\\anaconda3\\lib\\site-packages (from PyGithub) (1.7.1)\n",
      "Requirement already satisfied: deprecated in c:\\users\\pablo\\anaconda3\\lib\\site-packages (from PyGithub) (1.2.12)\n",
      "Requirement already satisfied: urllib3!=1.25.0,!=1.25.1,<1.26,>=1.21.1 in c:\\users\\pablo\\anaconda3\\lib\\site-packages (from requests>=2.14.0->PyGithub) (1.25.11)\n",
      "Requirement already satisfied: idna<3,>=2.5 in c:\\users\\pablo\\anaconda3\\lib\\site-packages (from requests>=2.14.0->PyGithub) (2.10)\n",
      "Requirement already satisfied: chardet<4,>=3.0.2 in c:\\users\\pablo\\anaconda3\\lib\\site-packages (from requests>=2.14.0->PyGithub) (3.0.4)\n",
      "Requirement already satisfied: certifi>=2017.4.17 in c:\\users\\pablo\\anaconda3\\lib\\site-packages (from requests>=2.14.0->PyGithub) (2020.6.20)\n",
      "Requirement already satisfied: wrapt<2,>=1.10 in c:\\users\\pablo\\anaconda3\\lib\\site-packages (from deprecated->PyGithub) (1.11.2)\n"
     ]
    }
   ],
   "source": [
    "import sys\n",
    "!{sys.executable} -m pip install PyGithub\n",
    "# !python -m pip uninstall PyGithub --yes"
   ]
  },
  {
   "cell_type": "code",
   "execution_count": 2,
   "metadata": {},
   "outputs": [],
   "source": [
    "import os\n",
    "import json\n",
    "import github as gh\n",
    "from pprint import pprint"
   ]
  },
  {
   "cell_type": "markdown",
   "metadata": {},
   "source": [
    "<div style=\"text-align: justify\">Para poder funcionar necesitamos tener un token de acceso personal en un fichero <code>json</code> en la siguiente ubicicación <code>config\\config.json</code> estructurado como se puede ver la imagen a continuación:\n",
    "<img src=\"img/config_file.png\"><div>"
   ]
  },
  {
   "cell_type": "code",
   "execution_count": 3,
   "metadata": {},
   "outputs": [],
   "source": [
    "with open('config/config.json') as config_file:\n",
    "    config = json.load(config_file)"
   ]
  },
  {
   "cell_type": "markdown",
   "metadata": {},
   "source": [
    "### Instanciar una conexión a GitHub\n",
    "Se crea una instancia de la conexión, se obtiene el repositiorio y se recoge la información de las issues."
   ]
  },
  {
   "cell_type": "code",
   "execution_count": 4,
   "metadata": {},
   "outputs": [],
   "source": [
    "g = gh.Github(config['GITHUB_TOKEN'])"
   ]
  },
  {
   "cell_type": "code",
   "execution_count": 5,
   "metadata": {},
   "outputs": [
    {
     "name": "stdout",
     "output_type": "stream",
     "text": [
      "[Issue(title=\"Testear las limitaciones de la API de GitHub\", number=4),\n",
      " Issue(title=\"Prototipar la descarga de issues mediante PyGithub\", number=3),\n",
      " Issue(title=\"Explorar la organización de la arquitectura de microservicios\", number=2),\n",
      " Issue(title=\"Investigar sobre la conexión con GitHub\", number=1)]\n"
     ]
    }
   ],
   "source": [
    "repo = g.get_repo(\"MrpYA45/github-text-mining-tfg\")\n",
    "issues = repo.get_issues(state=\"all\")\n",
    "pprint(issues.get_page(0))"
   ]
  },
  {
   "cell_type": "code",
   "execution_count": 6,
   "metadata": {},
   "outputs": [
    {
     "name": "stdout",
     "output_type": "stream",
     "text": [
      "Label(name=\"test\")\n"
     ]
    }
   ],
   "source": [
    "pprint(issues[0].labels[0])"
   ]
  },
  {
   "cell_type": "code",
   "execution_count": 7,
   "metadata": {
    "scrolled": false
   },
   "outputs": [
    {
     "name": "stdout",
     "output_type": "stream",
     "text": [
      "('Recuerda que la guía de referencia es '\n",
      " 'https://docs.github.com/en/rest/reference/issues\\r\\n'\n",
      " '@Kencho ¿puedes dejar a Pablo el código de extracción de issues y '\n",
      " 'almacenamiento en BD?')\n"
     ]
    }
   ],
   "source": [
    "pprint(issues[-1].get_comments()[0].body)"
   ]
  },
  {
   "cell_type": "markdown",
   "metadata": {},
   "source": [
    "### Crear una función que permita extraer la información de las issues\n",
    "A partir de la URL de un repositorio se recoge la información de sus issues y se devuelve en un diccionario. Se debe tener en cuenta que la API de GitHub posee una limitación de  [5000 peticiones por hora](https://docs.github.com/en/developers/apps/rate-limits-for-github-apps#:~:text=User%2Dto%2Dserver%20requests%20are,per%20hour%20for%20that%20user.), por lo tanto se tendrá en cuenta en el tratamiento de excepciones."
   ]
  },
  {
   "cell_type": "code",
   "execution_count": 8,
   "metadata": {},
   "outputs": [],
   "source": [
    "from urllib.parse import urlparse\n",
    "import datetime as dt\n",
    "import logging\n",
    "\n",
    "def get_repo_issues(repo_dir: str) -> None:\n",
    "    url = urlparse(repo_dir)\n",
    "    extracted_data: dict = {\n",
    "        'url': repo_dir,\n",
    "        'issues': {}\n",
    "    }\n",
    "    repo = g.get_repo(url.path[1:])\n",
    "    issues = repo.get_issues(state = \"all\")\n",
    "    \n",
    "    iter_issues = iter(issues)\n",
    "    while True:\n",
    "        try:\n",
    "            issue = next(iter_issues)\n",
    "            extracted_data['issues'][issue.id] = {\n",
    "                'title': issue.title,\n",
    "                'description': issue.body,\n",
    "                'labels': [],\n",
    "                'comments': []\n",
    "            }\n",
    "            try:\n",
    "                iter_labels = iter(issue.labels)\n",
    "                label = next(iter_labels)\n",
    "                extracted_data['issues'][issue.id]['labels'].append(label.name)\n",
    "            except StopIteration:\n",
    "                continue\n",
    "            try:\n",
    "                iter_comments = iter(issue.get_comments())\n",
    "                comment = next(iter_comments)\n",
    "                extracted_data['issues'][issue.id]['comments'].append({\n",
    "                    comment.id: comment.body\n",
    "                })\n",
    "            except StopIteration:\n",
    "                continue\n",
    "        except gh.RateLimitExceededException:\n",
    "            logging.warning(g.get_rate_limit())\n",
    "            sleep_time = g.get_rate_limit().core.reset - dt.datetime.utcnow() + dt.timedelta(0, 20)\n",
    "            time.sleep()\n",
    "            continue\n",
    "        except StopIteration:\n",
    "            return extracted_data"
   ]
  },
  {
   "cell_type": "code",
   "execution_count": 9,
   "metadata": {},
   "outputs": [],
   "source": [
    "extracted_data = get_repo_issues(\"https://github.com/MrpYA45/github-text-mining-tfg\")"
   ]
  },
  {
   "cell_type": "markdown",
   "metadata": {},
   "source": [
    "### Crear una función que permita guardar los datos extraídos\n",
    "A partir del diccionario que contiene los datos extraídos estos se almacenan en un fichero dentro de la carpeta `/data`"
   ]
  },
  {
   "cell_type": "code",
   "execution_count": 10,
   "metadata": {},
   "outputs": [],
   "source": [
    "def save_issues(extracted_data: dict) -> None:\n",
    "    file_name = urlparse(extracted_data['url']).path[1:].replace(\"/\", \"_\") + \"_extracted.json\"\n",
    "    file_path = \"data/\" + file_name\n",
    "    with open(file_path, 'w+',  encoding='utf8') as file:\n",
    "        json.dump(extracted_data, file, indent=4, ensure_ascii=False)"
   ]
  },
  {
   "cell_type": "code",
   "execution_count": 11,
   "metadata": {},
   "outputs": [],
   "source": [
    "save_issues(extracted_data)"
   ]
  },
  {
   "cell_type": "markdown",
   "metadata": {},
   "source": [
    "#### Leemos los datos extraídos"
   ]
  },
  {
   "cell_type": "code",
   "execution_count": 12,
   "metadata": {
    "scrolled": false
   },
   "outputs": [
    {
     "name": "stdout",
     "output_type": "stream",
     "text": [
      "{'issues': {'831250862': {'comments': [{'799201497': 'Recuerda que la guía de '\n",
      "                                                     'referencia es '\n",
      "                                                     'https://docs.github.com/en/rest/reference/issues\\r\\n'\n",
      "                                                     '@Kencho ¿puedes dejar a '\n",
      "                                                     'Pablo el código de '\n",
      "                                                     'extracción de issues y '\n",
      "                                                     'almacenamiento en BD?'}],\n",
      "                          'description': 'El objetivo de esta incidencia es '\n",
      "                                         'investigar como descargar el '\n",
      "                                         'contenido de las issues de un '\n",
      "                                         'repositorio mediante la API de '\n",
      "                                         'GitHub utilizando Python.',\n",
      "                          'labels': ['investigating'],\n",
      "                          'title': 'Investigar sobre la conexión con GitHub'},\n",
      "            '831769010': {'comments': [],\n",
      "                          'description': 'Será necesario: recibir la dirección '\n",
      "                                         'del repositorio, establecer la '\n",
      "                                         'conexión con GitHub, extraer la '\n",
      "                                         'información de las incidencias, '\n",
      "                                         'procesar la información recibida, '\n",
      "                                         'establecer una conexión con un '\n",
      "                                         'servicio de terceros (JIZT), enviar '\n",
      "                                         'la información procesada, recibir el '\n",
      "                                         'resultado proveniente de un tercero '\n",
      "                                         'y mostrar los resultados en la '\n",
      "                                         'web.\\r\\n'\n",
      "                                         '\\r\\n'\n",
      "                                         '- [ ] Investigar sobre los servicios '\n",
      "                                         'necesarios para la llevar a cabo el '\n",
      "                                         'proyecto.\\r\\n'\n",
      "                                         '\\r\\n'\n",
      "                                         '- [ ] Estudiar su despliegue '\n",
      "                                         'mediante Docker.\\r\\n'\n",
      "                                         '\\r\\n'\n",
      "                                         '- [ ] Investigar la API de JIZT ',\n",
      "                          'labels': ['investigating'],\n",
      "                          'title': 'Explorar la organización de la '\n",
      "                                   'arquitectura de microservicios'},\n",
      "            '836005588': {'comments': [],\n",
      "                          'description': 'A partir de un notebook generar un '\n",
      "                                         '`prototipo` que a partir de la '\n",
      "                                         'dirección de un repositorio extraiga '\n",
      "                                         'los siguientes datos de las '\n",
      "                                         'issues:\\r\\n'\n",
      "                                         '\\r\\n'\n",
      "                                         '- Título.\\r\\n'\n",
      "                                         '- Descripción.\\r\\n'\n",
      "                                         '- Etiquetas.\\r\\n'\n",
      "                                         '- Comentarios.\\r\\n'\n",
      "                                         '\\r\\n'\n",
      "                                         'Inicialmente estos datos se '\n",
      "                                         'guardarán en ficheros `.json` dentro '\n",
      "                                         'de la carpeta `data` para su '\n",
      "                                         'posterior procesado. El token de '\n",
      "                                         'acceso de GitHub se almacenará en '\n",
      "                                         '`config/config.json` dentro de la '\n",
      "                                         'carpeta prototipos. Tener en cuenta '\n",
      "                                         'que se requiere de la existencia de '\n",
      "                                         'este fichero para la ejecución y que '\n",
      "                                         'no se incluirá en el repositorio por '\n",
      "                                         'motivos de seguridad.',\n",
      "                          'labels': ['feature'],\n",
      "                          'title': 'Prototipar la descarga de issues mediante '\n",
      "                                   'PyGithub'},\n",
      "            '836830336': {'comments': [],\n",
      "                          'description': 'La API de GitHub posee un límite de '\n",
      "                                         '[5000 peticiones por '\n",
      "                                         'hora](https://docs.github.com/en/developers/apps/rate-limits-for-github-apps#:~:text=User%2Dto%2Dserver%20requests%20are,per%20hour%20for%20that%20user.). '\n",
      "                                         'Es necesario ofrecer un tratamiento '\n",
      "                                         'de excepciones que permita tener '\n",
      "                                         'estas limitaciones en cuenta. Por lo '\n",
      "                                         'tanto se requiere:\\r\\n'\n",
      "                                         '\\r\\n'\n",
      "                                         '- [x] Comprobar la descarga de '\n",
      "                                         'issues en repositorios de un tamaño '\n",
      "                                         'pequeño.\\r\\n'\n",
      "                                         '- [ ] Comprobar la obtención de '\n",
      "                                         'issues desde repositorios de gran '\n",
      "                                         'tamaño.\\r\\n'\n",
      "                                         '- [ ]  Decidir como se va a proceder '\n",
      "                                         'cuando se supere el límite.',\n",
      "                          'labels': ['test'],\n",
      "                          'title': 'Testear las limitaciones de la API de '\n",
      "                                   'GitHub'}},\n",
      " 'url': 'https://github.com/MrpYA45/github-text-mining-tfg'}\n"
     ]
    }
   ],
   "source": [
    "with open(\"data/MrpYA45_github-text-mining-tfg_extracted.json\", encoding=\"utf8\") as file:\n",
    "    data = json.load(file)\n",
    "\n",
    "pprint(data)"
   ]
  },
  {
   "cell_type": "markdown",
   "metadata": {},
   "source": [
    "### Pruebas a mayor escala"
   ]
  },
  {
   "cell_type": "code",
   "execution_count": 13,
   "metadata": {},
   "outputs": [],
   "source": [
    "import time"
   ]
  },
  {
   "cell_type": "markdown",
   "metadata": {},
   "source": [
    "Repositiorio de Jizt"
   ]
  },
  {
   "cell_type": "code",
   "execution_count": 14,
   "metadata": {
    "scrolled": true
   },
   "outputs": [
    {
     "name": "stdout",
     "output_type": "stream",
     "text": [
      "Execution time:  26.405773639678955\n"
     ]
    }
   ],
   "source": [
    "start_time = time.time()\n",
    "extracted_data = get_repo_issues(\"https://github.com/dmlls/jizt-tfg\")\n",
    "save_issues(extracted_data)\n",
    "end_time = time.time()\n",
    "print(\"Execution time: \", end_time - start_time)"
   ]
  },
  {
   "cell_type": "markdown",
   "metadata": {},
   "source": [
    "Repositorio de PyGithub"
   ]
  },
  {
   "cell_type": "code",
   "execution_count": 15,
   "metadata": {
    "scrolled": true
   },
   "outputs": [
    {
     "name": "stdout",
     "output_type": "stream",
     "text": [
      "Execution time:  215.86081957817078\n"
     ]
    }
   ],
   "source": [
    "start_time = time.time()\n",
    "extracted_data = get_repo_issues(\"https://github.com/PyGithub/PyGithub\")\n",
    "save_issues(extracted_data)\n",
    "end_time = time.time()\n",
    "print(\"Execution time: \", end_time - start_time)"
   ]
  },
  {
   "cell_type": "code",
   "execution_count": null,
   "metadata": {},
   "outputs": [],
   "source": []
  }
 ],
 "metadata": {
  "kernelspec": {
   "display_name": "Python 3",
   "language": "python",
   "name": "python3"
  },
  "language_info": {
   "codemirror_mode": {
    "name": "ipython",
    "version": 3
   },
   "file_extension": ".py",
   "mimetype": "text/x-python",
   "name": "python",
   "nbconvert_exporter": "python",
   "pygments_lexer": "ipython3",
   "version": "3.8.5"
  }
 },
 "nbformat": 4,
 "nbformat_minor": 4
}
